{
 "cells": [
  {
   "cell_type": "code",
   "execution_count": 1,
   "id": "0a8c8433",
   "metadata": {},
   "outputs": [],
   "source": [
    "import numpy as np\n",
    "import random as rng\n",
    "import typing"
   ]
  },
  {
   "cell_type": "code",
   "execution_count": 6,
   "id": "a82cc97b",
   "metadata": {},
   "outputs": [
    {
     "data": {
      "text/plain": [
       "array([2.0767737 , 2.        , 2.        , 3.50329258, 1.        ,\n",
       "       9.66338656, 6.51394299, 6.53594322])"
      ]
     },
     "execution_count": 6,
     "metadata": {},
     "output_type": "execute_result"
    }
   ],
   "source": [
    "# mutation functions\n",
    "\n",
    "def bitFlip(population, flip_probability):\n",
    "    p = flip_probability\n",
    "    \n",
    "    for i in range(len(population)):\n",
    "        if p >= np.random.rand(1, 1):\n",
    "            population[i] = not(population[i])\n",
    "    return population\n",
    "#end\n",
    "\n",
    "# gaussian convolution\n",
    "def gaussianConvolution(population, variance, noise_probability=1):\n",
    "    p = noise_probability\n",
    "    var = variance        #variance of the normal distribution\n",
    "    mu = 0                #mean of the normal distribution\n",
    "    min = 0.0\n",
    "    max = 100.0\n",
    "    \n",
    "    for i in range(len(population)):\n",
    "        randy_num = rng.normalvariate(mu, var)\n",
    "        \n",
    "        if p >= np.random.rand(1, 1):\n",
    "            while not (min <= population[i] + randy_num <= max):\n",
    "                randy_num = rng.normalvariate(mu, var)\n",
    "            #end\n",
    "            population[i] = (population[i] + randy_num)\n",
    "        #end\n",
    "    return population\n",
    "#end\n",
    "\n",
    "mutate_functions = {\"bit flip\":bitFlip, \"g convolve\":gaussianConvolution}"
   ]
  },
  {
   "cell_type": "code",
   "execution_count": 8,
   "id": "0ea28c11",
   "metadata": {},
   "outputs": [
    {
     "data": {
      "text/plain": [
       "array([18.38784595,  4.69066395,  5.25475214,  2.        ,  5.28077253,\n",
       "        2.46121306,  2.40320841,  1.        ])"
      ]
     },
     "execution_count": 8,
     "metadata": {},
     "output_type": "execute_result"
    }
   ],
   "source": [
    "# test mutation\n",
    "\n",
    "pop = np.array([2, 2, 2, 2, 1, 1, 1, 1], dtype=\"float\")\n",
    "mut_pop = mutate_functions[\"g convolve\"](pop, 5, 0.5)\n",
    "mut_pop"
   ]
  },
  {
   "cell_type": "code",
   "execution_count": 104,
   "id": "a9dc734d",
   "metadata": {},
   "outputs": [],
   "source": [
    "# recombination\n",
    "\n",
    "def onePtCrossover(vec_1, vec_2):\n",
    "    #TODO handle unequal-length vecs\n",
    "    #TODO handle empty vecs\n",
    "    \n",
    "    # choose a random integer (between bidx and pop length)\n",
    "    cross_beg_idx = int(abs(rng.uniform(0, len(vec_1))))\n",
    "    \n",
    "    # as lonng as the selected beginning of crossover is not the first index...\n",
    "    # (not sure why this is. I'd think this would break evolution)\n",
    "    if cross_beg_idx != 0:\n",
    "        for idx in range(cross_beg_idx, len(vec_1)):\n",
    "            swap = vec_1[idx]\n",
    "            vec_1[idx] = vec_2[idx]\n",
    "            vec_2[idx] = swap\n",
    "        #end\n",
    "    #end\n",
    "    return vec_1, vec_2\n",
    "#end\n",
    "\n",
    "recombine_fns = {\"1-pt-crossover\":onePtCrossover}"
   ]
  },
  {
   "cell_type": "code",
   "execution_count": 103,
   "id": "b8c11888",
   "metadata": {},
   "outputs": [
    {
     "name": "stdout",
     "output_type": "stream",
     "text": [
      "[4.0, 3.2, 12.2, 9.5, 5.0]\n"
     ]
    },
    {
     "data": {
      "text/plain": [
       "[10.0, 15.0, 1.0, 0.5, 6.2]"
      ]
     },
     "execution_count": 103,
     "metadata": {},
     "output_type": "execute_result"
    }
   ],
   "source": [
    "# test recombination\n",
    "pop_1 = [4.0, 3.2, 1.0, 0.5, 6.2]\n",
    "pop_2 = [10.0, 15.0, 12.2, 9.5, 5.0]\n",
    "\n",
    "pop_3, pop_4 = onePtCrossover(pop_1, pop_2)\n",
    "\n",
    "print(pop_3)\n",
    "pop_4"
   ]
  },
  {
   "cell_type": "code",
   "execution_count": null,
   "id": "48f8f758",
   "metadata": {},
   "outputs": [],
   "source": [
    "#selection\n",
    "\n",
    "def tournamentSelect(population, tournament_size):\n",
    "    t = tournament_size\n",
    "    \n",
    "    select_idx = rng.uniform(0, len(population))\n",
    "    best = population[select_idx]\n",
    "    # for every population element between second and \"tournament size\"...\n",
    "    for i in range(1, len(population)):\n",
    "        # choose a \"next\" at random from pop\n",
    "        select_idx = rng.uniform(0, len(population))\n",
    "        next = population[select_idx]\n",
    "        # if fitness of Next better than best...\n",
    "        if fitness(next) > fitness(best)\n",
    "            # best = next\n",
    "            best = next\n",
    "        #end\n",
    "    return best\n",
    "#end"
   ]
  }
 ],
 "metadata": {
  "kernelspec": {
   "display_name": "Python 3 (ipykernel)",
   "language": "python",
   "name": "python3"
  },
  "language_info": {
   "codemirror_mode": {
    "name": "ipython",
    "version": 3
   },
   "file_extension": ".py",
   "mimetype": "text/x-python",
   "name": "python",
   "nbconvert_exporter": "python",
   "pygments_lexer": "ipython3",
   "version": "3.9.7"
  }
 },
 "nbformat": 4,
 "nbformat_minor": 5
}
