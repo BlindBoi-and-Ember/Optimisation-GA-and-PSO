{
 "cells": [
  {
   "cell_type": "code",
   "execution_count": 6,
   "id": "acdab669",
   "metadata": {},
   "outputs": [],
   "source": [
    "import numpy as np\n",
    "import typing\n",
    "\n",
    "pop_size:int = 20\n",
    "\n",
    "def geneAlg(pop_size : int):\n",
    "    population = np.random.rand(1, pop_size)\n",
    "#end\n",
    "\n",
    "geneAlg(pop_size)"
   ]
  },
  {
   "cell_type": "code",
   "execution_count": 22,
   "id": "c8ca2f09",
   "metadata": {},
   "outputs": [
    {
     "data": {
      "text/plain": [
       "array([1, 1, 1, 0, 0, 1, 1, 1])"
      ]
     },
     "execution_count": 22,
     "metadata": {},
     "output_type": "execute_result"
    }
   ],
   "source": [
    "#first, use bit-flip\n",
    "def mutate(population, flip_probability):\n",
    "    p = flip_probability\n",
    "    \n",
    "    for i in range(len(population)):\n",
    "        if p >= np.random.rand(1, 1):\n",
    "            population[i] = not(population[i])\n",
    "    return population\n",
    "#end\n",
    "\n",
    "mutated = mutate(np.array([0, 0, 0, 0, 1, 1, 1, 1]), 0.5)\n",
    "mutated"
   ]
  }
 ],
 "metadata": {
  "kernelspec": {
   "display_name": "Python 3 (ipykernel)",
   "language": "python",
   "name": "python3"
  },
  "language_info": {
   "codemirror_mode": {
    "name": "ipython",
    "version": 3
   },
   "file_extension": ".py",
   "mimetype": "text/x-python",
   "name": "python",
   "nbconvert_exporter": "python",
   "pygments_lexer": "ipython3",
   "version": "3.9.7"
  }
 },
 "nbformat": 4,
 "nbformat_minor": 5
}
